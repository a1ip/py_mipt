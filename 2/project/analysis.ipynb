{
 "cells": [
  {
   "cell_type": "markdown",
   "metadata": {},
   "source": [
    "# Physics.Math.Code"
   ]
  },
  {
   "cell_type": "code",
   "execution_count": 2,
   "metadata": {},
   "outputs": [],
   "source": [
    "import json"
   ]
  },
  {
   "cell_type": "code",
   "execution_count": 3,
   "metadata": {},
   "outputs": [],
   "source": [
    "with open('posts.json') as f:\n",
    "    posts = json.load(f)"
   ]
  },
  {
   "cell_type": "code",
   "execution_count": 4,
   "metadata": {
    "scrolled": false
   },
   "outputs": [
    {
     "data": {
      "text/plain": [
       "{'id': 71329,\n",
       " 'from_id': -51126445,\n",
       " 'owner_id': -51126445,\n",
       " 'date': 1606747800,\n",
       " 'marked_as_ads': 1,\n",
       " 'post_type': 'post',\n",
       " 'text': 'Интересуешься разработкой? Создай собственный продукт на Python! Ждём тебя с 3 по 5 декабря в 19:00 по московскому времени на онлайн-интенсиве по программированию.\\n\\nУспей на бесплатную регистрацию: ▶ https://vk.cc/aD0IBa.\\n\\n✔ Изучишь основы Python — популярного языка программирования.\\n✔ Разработаешь сервер для прослушивания подключений.\\n✔ Научишься программировать клиентскую часть для подключения и передачи сообщений.\\n✔ Поработаешь с библиотеками PyQT, Kivy, wxWidgets, Tkinter.\\n✔ Пообщаешься с опытным разработчиком и задашь любые вопросы.\\n\\n⭐ Спикер интенсива — Python-разработчик с опытом более 7 лет и технический директор в Lia Никита Левашов.\\n\\n🎉 Все участники, прошедшие интенсив до конца, получат в подарок электронную книгу Кей Петерсон и Дэвида Колба «Век живи — век учись» издательства МИФ, а авторы трёх лучших проектов — сертификаты на 30 000 рублей на любой курс Skillbox.',\n",
       " 'attachments': [{'type': 'photo',\n",
       "   'photo': {'album_id': -51,\n",
       "    'date': 1606406544,\n",
       "    'id': 457286658,\n",
       "    'owner_id': -51126445,\n",
       "    'has_tags': False,\n",
       "    'access_key': 'cf88e5054777688cff',\n",
       "    'post_id': 71329,\n",
       "    'sizes': [{'height': 81,\n",
       "      'url': 'https://sun6-23.userapi.com/impf/rXD2Ph2cbDPVInWIkDjyzH6obViMBmz0sYxd7Q/yv10vjZ4sFA.jpg?size=130x81&quality=96&sign=cbb0dd18d6de99eb55747739b037d1db&c_uniq_tag=kuxxiOfwd_Q2syP4Fxpz18oQmubwb1ku8o0FXyjl34U',\n",
       "      'type': 'm',\n",
       "      'width': 130},\n",
       "     {'height': 87,\n",
       "      'url': 'https://sun6-23.userapi.com/impf/rXD2Ph2cbDPVInWIkDjyzH6obViMBmz0sYxd7Q/yv10vjZ4sFA.jpg?size=130x87&quality=96&crop=26,0,747,500&sign=7716f9eef298e105407130a4c8731310&c_uniq_tag=T8UZoKSiPDH-9SQRM-TL6DHbqnSlEs55o5qcj-6U51s',\n",
       "      'type': 'o',\n",
       "      'width': 130},\n",
       "     {'height': 133,\n",
       "      'url': 'https://sun6-23.userapi.com/impf/rXD2Ph2cbDPVInWIkDjyzH6obViMBmz0sYxd7Q/yv10vjZ4sFA.jpg?size=200x133&quality=96&crop=24,0,752,500&sign=71ed82067b5903838c4b153f05748914&c_uniq_tag=ULUnS4SZck0M4BwjgNXp2d_kPnkc9neUgrCMT5wrZws',\n",
       "      'type': 'p',\n",
       "      'width': 200},\n",
       "     {'height': 213,\n",
       "      'url': 'https://sun6-23.userapi.com/impf/rXD2Ph2cbDPVInWIkDjyzH6obViMBmz0sYxd7Q/yv10vjZ4sFA.jpg?size=320x213&quality=96&crop=24,0,751,500&sign=6c193fc3f7ef517a67199c54c5a612e5&c_uniq_tag=yiH2ld-Px46hrpWkbAR9jDfT_3bY0tLqYF1jSWZ9MwA',\n",
       "      'type': 'q',\n",
       "      'width': 320},\n",
       "     {'height': 340,\n",
       "      'url': 'https://sun6-23.userapi.com/impf/rXD2Ph2cbDPVInWIkDjyzH6obViMBmz0sYxd7Q/yv10vjZ4sFA.jpg?size=510x340&quality=96&crop=25,0,750,500&sign=b5ca8029fa2f5d9c1b6aae60bb9fe280&c_uniq_tag=yak53TTgWLpvhk5tXCocMM_Dnid6P0klQADBpyTUfwY',\n",
       "      'type': 'r',\n",
       "      'width': 510},\n",
       "     {'height': 47,\n",
       "      'url': 'https://sun6-23.userapi.com/impf/rXD2Ph2cbDPVInWIkDjyzH6obViMBmz0sYxd7Q/yv10vjZ4sFA.jpg?size=75x47&quality=96&sign=6bf2a59b39ed2929330d4bc53ba5f478&c_uniq_tag=5kcJq540V1wwuz9HXcYlf7XDEM3Q6hGf7FdVg51h1l4',\n",
       "      'type': 's',\n",
       "      'width': 75},\n",
       "     {'height': 377,\n",
       "      'url': 'https://sun6-23.userapi.com/impf/rXD2Ph2cbDPVInWIkDjyzH6obViMBmz0sYxd7Q/yv10vjZ4sFA.jpg?size=604x378&quality=96&sign=16314396e57deddced6eed12a873aa63&c_uniq_tag=03e7zI8RstLKuCp9oWgtN-0vxuyWbVfKgMSVRG36VQg',\n",
       "      'type': 'x',\n",
       "      'width': 604},\n",
       "     {'height': 500,\n",
       "      'url': 'https://sun6-23.userapi.com/impf/rXD2Ph2cbDPVInWIkDjyzH6obViMBmz0sYxd7Q/yv10vjZ4sFA.jpg?size=800x500&quality=96&proxy=1&sign=e92f8b4fa2619270d5139b83f8754d81&c_uniq_tag=ryfCsGQdxvrQwdUtY9_6L9kA7OiJ3AxzU8exQSuGLSY',\n",
       "      'type': 'y',\n",
       "      'width': 800}],\n",
       "    'text': '',\n",
       "    'user_id': 100}}],\n",
       " 'post_source': {'type': 'vk'},\n",
       " 'comments': {'count': 0, 'can_post': 1},\n",
       " 'likes': {'count': 4,\n",
       "  'user_likes': 0,\n",
       "  'can_like': 1,\n",
       "  'can_publish': 1,\n",
       "  'users_likes': [163931991, 445360838, 139791958, 339713798]},\n",
       " 'reposts': {'count': 6, 'user_reposted': 0},\n",
       " 'views': {'count': 3089},\n",
       " 'is_favorite': False,\n",
       " 'donut': {'is_donut': False},\n",
       " 'short_text_rate': 0.8}"
      ]
     },
     "execution_count": 4,
     "metadata": {},
     "output_type": "execute_result"
    }
   ],
   "source": [
    "posts[0]"
   ]
  },
  {
   "cell_type": "code",
   "execution_count": 5,
   "metadata": {
    "scrolled": false
   },
   "outputs": [
    {
     "data": {
      "text/plain": [
       "{'id': 71326,\n",
       " 'from_id': -51126445,\n",
       " 'owner_id': -51126445,\n",
       " 'date': 1606740300,\n",
       " 'marked_as_ads': 0,\n",
       " 'post_type': 'post',\n",
       " 'text': 'Искусство мыслить незаурядно. Упражнения для мозга и поиска творческих решений [2011] Слоан Пол\\n\\nВ своей книге Пол Слоан приводит детальное руководство к действию в области искусства мышления, как формулировать сильные идеи, думать нестандартно и благодаря этому стать успешным в бизнесе и карьерном росте. Книга поможет отточить навыки нешаблонного мышления, аналитического подхода в решении проблемных ситуаций, действенной аргументации и внедрения идей в жизнь. Автор рекомендует такие методики и наборы упражнений, которые полностью применимы в ежедневной практике. \\n\\nСкачать все книги: \\nhttps://t.me/physics_lib \\nhttps://tlgg.ru/physics_lib \\nhttps://tgtg.su/physics_lib \\nhttps://telete.in/physics_lib \\nhttps://ttttt.me/physics_lib \\n \\n#саморазвитие@physics_math \\n#образование@physics_math \\n#память@physics_math \\n#биология@physics_math \\n#полезное@physics_math',\n",
       " 'attachments': [{'type': 'photo',\n",
       "   'photo': {'album_id': 214234546,\n",
       "    'date': 1606650807,\n",
       "    'id': 457286675,\n",
       "    'owner_id': -51126445,\n",
       "    'has_tags': False,\n",
       "    'access_key': 'd6dd07003432b608ed',\n",
       "    'sizes': [{'height': 46,\n",
       "      'url': 'https://sun9-9.userapi.com/impf/qwe-olkVcrUzM1OeCHlaJ7KurFuRh8PBIWzpoA/XocTdl7e8rU.jpg?size=75x46&quality=96&sign=3873f8490f0c303bee432fbfc5c26b96&c_uniq_tag=1NjXAamwT5JWK9_k42PYMisiOne8YwsSrZ24wvrQ9c8',\n",
       "      'type': 's',\n",
       "      'width': 75},\n",
       "     {'height': 80,\n",
       "      'url': 'https://sun9-9.userapi.com/impf/qwe-olkVcrUzM1OeCHlaJ7KurFuRh8PBIWzpoA/XocTdl7e8rU.jpg?size=130x80&quality=96&sign=19a750adf5ec07de23731c7a5d710dfc&c_uniq_tag=Lto99aful3TNZES9JvKVDXMXrsBZ7iuMTJtG4lRG6-Y',\n",
       "      'type': 'm',\n",
       "      'width': 130},\n",
       "     {'height': 370,\n",
       "      'url': 'https://sun9-9.userapi.com/impf/qwe-olkVcrUzM1OeCHlaJ7KurFuRh8PBIWzpoA/XocTdl7e8rU.jpg?size=604x370&quality=96&sign=2328ed74d7097c238e9f9410aaa7af75&c_uniq_tag=TgRd_As1BtCTwq_f-h8q_QtQrp3zeVwxoSGQSSYTMq0',\n",
       "      'type': 'x',\n",
       "      'width': 604},\n",
       "     {'height': 494,\n",
       "      'url': 'https://sun9-9.userapi.com/impf/qwe-olkVcrUzM1OeCHlaJ7KurFuRh8PBIWzpoA/XocTdl7e8rU.jpg?size=807x494&quality=96&sign=9f3e61219cb95fb8b5cf7b387b505d6c&c_uniq_tag=PSGP7_ENZJ55TWWsWR3FyLs1cL-hII5t0ef2JA153mk',\n",
       "      'type': 'y',\n",
       "      'width': 807},\n",
       "     {'height': 782,\n",
       "      'url': 'https://sun9-9.userapi.com/impf/qwe-olkVcrUzM1OeCHlaJ7KurFuRh8PBIWzpoA/XocTdl7e8rU.jpg?size=1278x782&quality=96&proxy=1&sign=9038c622f33c64e04db93d5d82d39ec5&c_uniq_tag=qGjF5pqS8jSoVGq-HRqTbrlcVD7-jxxrhFbruClFam8',\n",
       "      'type': 'z',\n",
       "      'width': 1278},\n",
       "     {'height': 87,\n",
       "      'url': 'https://sun9-9.userapi.com/impf/qwe-olkVcrUzM1OeCHlaJ7KurFuRh8PBIWzpoA/XocTdl7e8rU.jpg?size=130x87&quality=96&crop=54,0,1169,782&sign=83ad53ba8c78623aeeffe87707d082af&c_uniq_tag=LluCeZT04wyOooVBxH7rLT9cgMJKIhgqadcwv_sPCRc',\n",
       "      'type': 'o',\n",
       "      'width': 130},\n",
       "     {'height': 133,\n",
       "      'url': 'https://sun9-9.userapi.com/impf/qwe-olkVcrUzM1OeCHlaJ7KurFuRh8PBIWzpoA/XocTdl7e8rU.jpg?size=200x133&quality=96&crop=51,0,1176,782&sign=86339732f5d9570dd13b754c41a6ae2c&c_uniq_tag=8qW5ISS3c49E2Pbo6c_WMWJLgyPm2nwbYFMRGO0aPdE',\n",
       "      'type': 'p',\n",
       "      'width': 200},\n",
       "     {'height': 213,\n",
       "      'url': 'https://sun9-9.userapi.com/impf/qwe-olkVcrUzM1OeCHlaJ7KurFuRh8PBIWzpoA/XocTdl7e8rU.jpg?size=320x213&quality=96&crop=51,0,1175,782&sign=0dc30b2d311fa781198082293feaaba7&c_uniq_tag=VyeqRbdlJxlj0vTu86lvpt9n5WYVb_gtqdqC-hGKF-E',\n",
       "      'type': 'q',\n",
       "      'width': 320},\n",
       "     {'height': 340,\n",
       "      'url': 'https://sun9-9.userapi.com/impf/qwe-olkVcrUzM1OeCHlaJ7KurFuRh8PBIWzpoA/XocTdl7e8rU.jpg?size=510x340&quality=96&crop=52,0,1173,782&sign=2db94bd23efa6a68484514dd4c8b886d&c_uniq_tag=8u2mTFna_0nL-uIlFaxaHqCNLUb_IQcGFVpFGKudWzQ',\n",
       "      'type': 'r',\n",
       "      'width': 510}],\n",
       "    'text': 'Скачать все книги: \\nhttps://t.me/physics_lib \\nhttps://tlgg.ru/physics_lib \\nhttps://tgtg.su/physics_lib \\nhttps://telete.in/physics_lib \\nhttps://ttttt.me/physics_lib',\n",
       "    'user_id': 100}},\n",
       "  {'type': 'doc',\n",
       "   'doc': {'id': 578954678,\n",
       "    'owner_id': 44301783,\n",
       "    'title': 'Искусство мыслить незаурядно. Упражнения для мозга и поиска творческих решений [2011] Слоан Пол.pdf',\n",
       "    'size': 13497736,\n",
       "    'ext': 'pdf',\n",
       "    'date': 1606650568,\n",
       "    'type': 1,\n",
       "    'url': 'https://vk.com/doc44301783_578954678?hash=0d772ddd98a69601e1&dl=GEZTAMJQGIZTM:1606754571:84f922aec0d47e38bc&api=1&no_preview=1',\n",
       "    'access_key': 'e4004e003e726d51ab'}},\n",
       "  {'type': 'link',\n",
       "   'link': {'url': 'https://t.me/physics_lib',\n",
       "    'title': 'Physics.Math.Code',\n",
       "    'description': 'VK: vk.com/physics_math Чат инженеров: @math_code Чат хакеров: @hack_cpp YouTube: youtube.com/c/PhysicsMathCode Помощь по учёбе, программы, репетиторство: vk.com/itmentor Админ: @physicist_i',\n",
       "    'target': 'internal',\n",
       "    'photo': {'album_id': -27,\n",
       "     'date': 1606650822,\n",
       "     'id': 457316554,\n",
       "     'owner_id': 2000007084,\n",
       "     'has_tags': False,\n",
       "     'sizes': [{'height': 130,\n",
       "       'url': 'https://sun9-65.userapi.com/I25MTdHh3dLw1PbOIis4mIdtfjQFg6VqjxheFQ/KorgD2gUoEs.jpg',\n",
       "       'type': 'm',\n",
       "       'width': 130},\n",
       "      {'height': 260,\n",
       "       'url': 'https://sun9-53.userapi.com/EepLbd4OxozZDKsRe--jmqEihvxqi8fuCTPP9w/DZJHGdepb48.jpg',\n",
       "       'type': 'p',\n",
       "       'width': 260},\n",
       "      {'height': 75,\n",
       "       'url': 'https://sun9-40.userapi.com/1C-DunjYUe_oA6DqSFsjdA6TzBPQevPPnFzcnw/kLusb3Rmlqg.jpg',\n",
       "       'type': 's',\n",
       "       'width': 75},\n",
       "      {'height': 150,\n",
       "       'url': 'https://sun9-41.userapi.com/huTcQa98O49R0YXmoAEixm3ACU0h-xp1Qjw4fg/CChm8GdGsXA.jpg',\n",
       "       'type': 'x',\n",
       "       'width': 150}],\n",
       "     'text': '',\n",
       "     'user_id': 100},\n",
       "    'is_favorite': False}}],\n",
       " 'post_source': {'type': 'vk'},\n",
       " 'comments': {'count': 2, 'can_post': 1},\n",
       " 'likes': {'count': 44,\n",
       "  'user_likes': 0,\n",
       "  'can_like': 1,\n",
       "  'can_publish': 1,\n",
       "  'users_likes': [3616784,\n",
       "   277161176,\n",
       "   58394107,\n",
       "   133040741,\n",
       "   176258035,\n",
       "   230562032,\n",
       "   12364557,\n",
       "   280796426,\n",
       "   94051270,\n",
       "   139791958,\n",
       "   15935612,\n",
       "   154387038,\n",
       "   44301783,\n",
       "   28890531,\n",
       "   29487470,\n",
       "   50740736,\n",
       "   317547933,\n",
       "   7295692,\n",
       "   120800433,\n",
       "   532766,\n",
       "   60693424,\n",
       "   226643322,\n",
       "   253073295,\n",
       "   99054880,\n",
       "   163931991,\n",
       "   523735032,\n",
       "   264146130,\n",
       "   412514454,\n",
       "   7399342,\n",
       "   2472397,\n",
       "   21760279,\n",
       "   279890326,\n",
       "   183824843,\n",
       "   389157240,\n",
       "   192779986,\n",
       "   10354860,\n",
       "   150718901,\n",
       "   138756395,\n",
       "   477790165,\n",
       "   412853118,\n",
       "   143439766,\n",
       "   528852800,\n",
       "   225219788,\n",
       "   445360838]},\n",
       " 'reposts': {'count': 13, 'user_reposted': 0},\n",
       " 'views': {'count': 3730},\n",
       " 'is_favorite': False,\n",
       " 'donut': {'is_donut': False},\n",
       " 'short_text_rate': 0.8,\n",
       " 'carousel_offset': 0}"
      ]
     },
     "execution_count": 5,
     "metadata": {},
     "output_type": "execute_result"
    }
   ],
   "source": [
    "posts[1]"
   ]
  },
  {
   "cell_type": "code",
   "execution_count": 6,
   "metadata": {},
   "outputs": [],
   "source": [
    "posts.sort(key=lambda x:x['likes']['count'], reverse=True)"
   ]
  },
  {
   "cell_type": "code",
   "execution_count": 7,
   "metadata": {},
   "outputs": [],
   "source": [
    "show = lambda posts: print('\\n'.join('{}: {}'.format(i+1, post['text'].split('\\n')[0][:80]) for i, post in enumerate(posts[:20])))"
   ]
  },
  {
   "cell_type": "code",
   "execution_count": 8,
   "metadata": {
    "scrolled": true
   },
   "outputs": [
    {
     "name": "stdout",
     "output_type": "stream",
     "text": [
      "1: Подборка книг по Linux. [10 книг] \n",
      "2: Теоретический минимум для программиста\n",
      "3: В.И. Смирнов. Курс высшей математики в пяти томах. \n",
      "4: Берклеевский курс общей физики [5 книг] \n",
      "5: Документальный фильм «Измерения» — это два часа математики, постепенно выводящие\n",
      "6: В.И. Смирнов. Курс высшей математики в пяти томах. \n",
      "7: Высшая математика, полный курс [25 лекций]\n",
      "8: Как разобраться в Computer Science самостоятельно \n",
      "9: Как разобраться в Computer Science самостоятельно\n",
      "10: Подборка книг «Классика Computer Science» (26 книг + CD) [2002-2016] \n",
      "11: Вот что можно найти в большинстве научных работ. Максимум показухи, минимум поле\n",
      "12: 1. Элементы прикладной математики \n",
      "13: Математика в техническом университете [22 книги][1996-2009 , DJVU, RU] \n",
      "14: О женщинах в науке\n",
      "15: Подборка книг: электротехника \n",
      "16: Серия книг Expert's Voice [34 книги] [2006-2019] \n",
      "17: Библиотечка Квант [177 книг] [весь архив в нашем telegram]\n",
      "18: \"Наука. Величайшие теории\" - это коллекция книг, рассказывающая о великих научны\n",
      "19: Документальный фильм «Измерения» — это два часа математики, постепенно выводящие\n",
      "20: Как разобраться в Computer Science самостоятельно \n"
     ]
    }
   ],
   "source": [
    "show(posts)"
   ]
  },
  {
   "cell_type": "code",
   "execution_count": 9,
   "metadata": {},
   "outputs": [
    {
     "name": "stdout",
     "output_type": "stream",
     "text": [
      "1: Теоретический минимум для программиста\n",
      "2: Как разобраться в Computer Science самостоятельно \n",
      "3: Как разобраться в Computer Science самостоятельно\n",
      "4: Серия книг Expert's Voice [34 книги] [2006-2019] \n",
      "5: Как разобраться в Computer Science самостоятельно \n",
      "6: Изучаем Python [Том 1, 5-е издание] [2019] Марк Лутц \n",
      "7: Изучаем Python [Том 1, 5-е издание] [2019] Марк Лутц \n",
      "8: Изучаем Python [Том 1, 5-е издание] [2019] Марк Лутц \n",
      "9: Изучаем Python [Том 1, 5-е издание] [2019] Марк Лутц \n",
      "10: Изучаем Python [Том 1, 5-е издание] [2019] Марк Лутц \n",
      "11: Серия книг Expert's Voice [34 книги] [2006-2019] \n",
      "12: Где попрактиковаться в программировании: 30 ресурсов\n",
      "13: [1] Глубокое обучение с точки зрения практика [2018] Гибсон, Паттерсон \n",
      "14: Подборка книг: Big Data | Data Science | Машинное обучение | Нейронные сети и ис\n",
      "15: Где попрактиковаться в программировании: 30 ресурсов \n",
      "16: Теоретический минимум по Big Data [2019] Анналин Ын, Кеннет Су \n",
      "17: Как устроен Python. Гид для разработчиков, программистов и интересующихся [2019]\n",
      "18: Подборка книг по теме: Алгоритмы [20 книг]\n",
      "19: [1] Изучаем Arduino инструменты и методы технического волшебства [2015] Джереми \n",
      "20: Вероятностное программирование на Python: байесовский вывод и алгоритмы [2019] Д\n"
     ]
    }
   ],
   "source": [
    "show([post for post in posts if 'python' in post['text'].lower()])"
   ]
  },
  {
   "cell_type": "code",
   "execution_count": 10,
   "metadata": {
    "scrolled": false
   },
   "outputs": [
    {
     "name": "stdout",
     "output_type": "stream",
     "text": [
      "1: Теоретический минимум для программиста\n",
      "2: Серия книг Expert's Voice [34 книги] [2006-2019] \n",
      "3: Серия книг Expert's Voice [34 книги] [2006-2019] \n",
      "4: Где попрактиковаться в программировании: 30 ресурсов\n",
      "5: Где попрактиковаться в программировании: 30 ресурсов \n",
      "6: Подборка книг серии серии A Book Apart — это серия книг для интернет-профессиона\n",
      "7: [1] Вы не знаете Javascript: ES6 и не только [2017] Симпсон К. \n",
      "8: [1] Вы не знаете Javascript: ES6 и не только [2017] Симпсон К.\n",
      "9: Где учиться программисту: 19 онлайн-курсов. \n",
      "10: [1] Front-end. Клиентская разработка для профессионалов. Node.js, ES6, REST [201\n",
      "11: JavaScript на примерах. Практика, практика и только практика [2018] Никольский \n",
      "12: [1] Создание Web-сайта. Недостающее руководство [2013] Мак-Дональд \n",
      "13: Подборка книг серии серии A Book Apart — это серия книг для интернет-профессиона\n",
      "14: 📚󠁩󠁤󠁪󠁷󠁿 Подборка пособий по PHP [все книги + код в нашем telegram]\n",
      "15: 10 лучших языков программирования\n",
      "16: Чтобы освоить HTML и CSS, нужен такой план: \n",
      "17: Где учиться программисту: 19 онлайн-курсов.\n",
      "18: Выразительный JavaScript. Современное веб-программирование. 3-е издание [2019] М\n",
      "19: Книги по HTML5 и CSS3\n",
      "20: Продвинутый курс по WEB-разработке [10 лекций из 25] \n"
     ]
    }
   ],
   "source": [
    "show([post for post in posts if 'javascript' in post['text'].lower()])"
   ]
  },
  {
   "cell_type": "code",
   "execution_count": 88,
   "metadata": {},
   "outputs": [],
   "source": [
    "get_posts_render = lambda posts: [{'num': i+1, 'id': post['id'], 'name': post['text'].split('\\n')[0][:80]} for i, post in enumerate(posts[:1000])]"
   ]
  },
  {
   "cell_type": "code",
   "execution_count": 89,
   "metadata": {},
   "outputs": [],
   "source": [
    "from jinja2 import Template"
   ]
  },
  {
   "cell_type": "code",
   "execution_count": 90,
   "metadata": {},
   "outputs": [],
   "source": [
    "base_html = open('base.html', 'r').read()\n",
    "tm = Template(base_html)\n",
    "#page = tm.render(title='Main', posts=[])\n",
    "#print(page)"
   ]
  },
  {
   "cell_type": "code",
   "execution_count": 91,
   "metadata": {},
   "outputs": [],
   "source": [
    "def ren(posts, title, path_page):\n",
    "    data_main_page = get_posts_render(posts)\n",
    "    page_main = tm.render(title=title, posts=data_main_page)\n",
    "    path_index = '../../../mihailselezniov.github.io{}'\n",
    "    with open(path_index.format(path_page + '/index.html'), 'w') as f:\n",
    "        f.write(page_main)"
   ]
  },
  {
   "cell_type": "code",
   "execution_count": 92,
   "metadata": {},
   "outputs": [],
   "source": [
    "ren(posts, 'Main', '/')"
   ]
  },
  {
   "cell_type": "code",
   "execution_count": 87,
   "metadata": {},
   "outputs": [],
   "source": [
    "ren([post for post in posts if 'python' in post['text'].lower()], 'Python', '/python')\n",
    "ren([post for post in posts if 'javascript' in post['text'].lower()], 'Javascript', '/javascript')"
   ]
  },
  {
   "cell_type": "code",
   "execution_count": null,
   "metadata": {},
   "outputs": [],
   "source": []
  }
 ],
 "metadata": {
  "kernelspec": {
   "display_name": "Python 3",
   "language": "python",
   "name": "python3"
  },
  "language_info": {
   "codemirror_mode": {
    "name": "ipython",
    "version": 3
   },
   "file_extension": ".py",
   "mimetype": "text/x-python",
   "name": "python",
   "nbconvert_exporter": "python",
   "pygments_lexer": "ipython3",
   "version": "3.7.1"
  }
 },
 "nbformat": 4,
 "nbformat_minor": 2
}
